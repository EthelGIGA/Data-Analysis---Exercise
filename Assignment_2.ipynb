{
 "cells": [
  {
   "cell_type": "code",
   "execution_count": 4,
   "id": "89764c70",
   "metadata": {
    "execution": {
     "iopub.execute_input": "2021-08-03T10:26:46.139047Z",
     "iopub.status.busy": "2021-08-03T10:26:46.137938Z",
     "iopub.status.idle": "2021-08-03T10:26:48.406711Z",
     "shell.execute_reply": "2021-08-03T10:26:48.405410Z",
     "shell.execute_reply.started": "2021-08-03T10:09:00.112316Z"
    },
    "id": "89764c70",
    "papermill": {
     "duration": 2.342669,
     "end_time": "2021-08-03T10:26:48.406881",
     "exception": false,
     "start_time": "2021-08-03T10:26:46.064212",
     "status": "completed"
    },
    "tags": []
   },
   "outputs": [],
   "source": [
    "# necessary imports here\n",
    "import pandas as pd"
   ]
  },
  {
   "cell_type": "code",
   "execution_count": null,
   "id": "74faac55",
   "metadata": {},
   "outputs": [],
   "source": [
    "# loading data\n",
    "data = pd.read_csv(\"C:/Users/Ethel Enam Nyamador/Desktop/WACCBIP/Data_Analysis-main/Assignment (2)/Assignment_2_dataset.csv\")\n",
    "data"
   ]
  },
  {
   "cell_type": "code",
   "execution_count": null,
   "id": "a8f00824",
   "metadata": {},
   "outputs": [],
   "source": [
    "#shape of data\n",
    "data.shape"
   ]
  },
  {
   "cell_type": "code",
   "execution_count": 50,
   "id": "a2142b9e",
   "metadata": {
    "execution": {
     "iopub.execute_input": "2021-08-03T10:26:48.908090Z",
     "iopub.status.busy": "2021-08-03T10:26:48.907440Z",
     "iopub.status.idle": "2021-08-03T10:26:48.915300Z",
     "shell.execute_reply": "2021-08-03T10:26:48.914746Z",
     "shell.execute_reply.started": "2021-08-03T10:09:01.421922Z"
    },
    "id": "a2142b9e",
    "papermill": {
     "duration": 0.081484,
     "end_time": "2021-08-03T10:26:48.915444",
     "exception": false,
     "start_time": "2021-08-03T10:26:48.833960",
     "status": "completed"
    },
    "tags": []
   },
   "outputs": [],
   "source": [
    "# dropping id column\n",
    "dd = data.drop(['id'], axis = 1)\n",
    "dd"
   ]
  },
  {
   "cell_type": "code",
   "execution_count": null,
   "id": "de6d0e9f",
   "metadata": {},
   "outputs": [],
   "source": [
    "# rename column names to make it more user-friendly\n",
    "#column names = age, blood_pressure, specific_gravity, albumin, sugar, red_blood_cells, pus_cell, pus_cell_clumps, bacteria, blood_glucose_random, blood_urea, serum_creatinine, sodium, potassium, haemoglobin, packed_cell_volume, white_blood_cell_count, red_blood_cell_count, hypertension, diabetes_mellitus, coronary_artery_disease, appetite, peda_edema, aanemia, class]\n",
    "dd.rename(columns = {'bp' : 'blood pressure'}, inplace = True), \n",
    "dd.rename(columns = {'sg' : 'specific gravity'}, inplace = True),\n",
    "dd.rename(columns = {'al' : 'albumin'}, inplace = True),\n",
    "dd.rename(columns = {'su' : 'sugar'}, inplace = True),\n",
    "dd.rename(columns = {'rbc' : 'red blood cells'}, inplace = True),\n",
    "dd.rename(columns = {'pc' : 'pus cell'}, inplace = True),\n",
    "dd.rename(columns = {'pcc' : 'pus cell clumps'}, inplace = True),\n",
    "dd.rename(columns = {'ba' : 'bacteria'}, inplace = True),\n",
    "dd.rename(columns = {'bgr' : 'blood glucose random'}, inplace = True),\n",
    "dd.rename(columns = {'bu' : 'blood urea'}, inplace = True),\n",
    "dd.rename(columns = {'sc' : 'serum creatinine'}, inplace = True),\n",
    "dd.rename(columns = {'sod' : 'sodium'}, inplace = True),\n",
    "dd.rename(columns = {'pot' : 'potassium'}, inplace = True),\n",
    "dd.rename(columns = {'hemo' : 'hemoglobin'}, inplace = True),\n",
    "dd.rename(columns = {'pcv' : 'packed cell volume'}, inplace = True),\n",
    "dd.rename(columns = {'wc' : 'white blood cell count'}, inplace = True),\n",
    "dd.rename(columns = {'rc' : 'red blood cell count'}, inplace = True),\n",
    "dd.rename(columns = {'htn' : 'hypertension'}, inplace = True),\n",
    "dd.rename(columns = {'dm' : 'diabetes mellitus'}, inplace = True),\n",
    "dd.rename(columns = {'cad' : 'coronary artery disease'}, inplace = True),\n",
    "dd.rename(columns = {'appet' : 'appetite'}, inplace = True),\n",
    "dd.rename(columns = {'pe' : 'pedal edema'}, inplace = True),\n",
    "dd.rename(columns = {'ane' : 'anemia'}, inplace = True),\n",
    "dd.rename(columns = {'classification' : 'class'}, inplace = True),"
   ]
  },
  {
   "cell_type": "code",
   "execution_count": null,
   "id": "e68e8a4a",
   "metadata": {},
   "outputs": [],
   "source": [
    "dd"
   ]
  },
  {
   "cell_type": "code",
   "execution_count": null,
   "id": "5f9b1a21",
   "metadata": {},
   "outputs": [],
   "source": [
    "#describe data\n",
    "dd.describe()"
   ]
  },
  {
   "cell_type": "code",
   "execution_count": null,
   "id": "2144dbf7",
   "metadata": {},
   "outputs": [],
   "source": [
    "#data-info\n",
    "dd.info()"
   ]
  },
  {
   "cell_type": "markdown",
   "id": "-4xKWUM7x87f",
   "metadata": {
    "id": "-4xKWUM7x87f"
   },
   "source": [
    "\n",
    "Change all object type to numerical datatype"
   ]
  },
  {
   "cell_type": "code",
   "execution_count": null,
   "id": "f487e806",
   "metadata": {},
   "outputs": [],
   "source": [
    "# convert necessary columns with object type to numerical type\n",
    "object_columns = dd.select_dtypes(include = ['object']) \n",
    "object_columns"
   ]
  },
  {
   "cell_type": "code",
   "execution_count": 46,
   "id": "a71ab711",
   "metadata": {
    "scrolled": false
   },
   "outputs": [],
   "source": [
    "for col in object_columns:\n",
    "    dd[col] = pd.to_numeric(dd[col], errors='coerce')\n",
    "                                "
   ]
  },
  {
   "cell_type": "code",
   "execution_count": null,
   "id": "7851869e",
   "metadata": {},
   "outputs": [],
   "source": [
    "# Extract all numerical columns into num_cols\n",
    "num_cols = dd.select_dtypes(include=['number']).columns\n",
    "num_cols"
   ]
  },
  {
   "cell_type": "code",
   "execution_count": null,
   "id": "4b9cfa31",
   "metadata": {},
   "outputs": [],
   "source": [
    "# Extract categorical columns as cat_cols\n",
    "cat_cols = dd.select_dtypes(include=['object']).columns\n",
    "cat_cols"
   ]
  },
  {
   "cell_type": "markdown",
   "id": "74a090a0",
   "metadata": {
    "id": "74a090a0",
    "papermill": {
     "duration": 0.073034,
     "end_time": "2021-08-03T10:26:50.529711",
     "exception": false,
     "start_time": "2021-08-03T10:26:50.456677",
     "status": "completed"
    },
    "tags": []
   },
   "source": [
    "<p style = \"font-size : 20px; color : #34656d ; font-family : 'Comic Sans MS'; \"><strong>There is some ambugity present in the columns we have to remove that.</strong></p>"
   ]
  },
  {
   "cell_type": "code",
   "execution_count": null,
   "id": "99c12de3",
   "metadata": {},
   "outputs": [],
   "source": [
    "import pandas as pd\n",
    "df = data.drop(['id'], axis = 1)\n",
    "df"
   ]
  },
  {
   "cell_type": "code",
   "execution_count": null,
   "id": "b6856b36",
   "metadata": {},
   "outputs": [],
   "source": [
    "df.rename(columns = {'bp' : 'blood pressure'}, inplace = True), \n",
    "df.rename(columns = {'sg' : 'specific gravity'}, inplace = True),\n",
    "df.rename(columns = {'al' : 'albumin'}, inplace = True),\n",
    "df.rename(columns = {'su' : 'sugar'}, inplace = True),\n",
    "df.rename(columns = {'rbc' : 'red blood cells'}, inplace = True),\n",
    "df.rename(columns = {'pc' : 'pus cell'}, inplace = True),\n",
    "df.rename(columns = {'pcc' : 'pus cell clumps'}, inplace = True),\n",
    "df.rename(columns = {'ba' : 'bacteria'}, inplace = True),\n",
    "df.rename(columns = {'bgr' : 'blood glucose random'}, inplace = True),\n",
    "df.rename(columns = {'bu' : 'blood urea'}, inplace = True),\n",
    "df.rename(columns = {'sc' : 'serum creatinine'}, inplace = True),\n",
    "df.rename(columns = {'sod' : 'sodium'}, inplace = True),\n",
    "df.rename(columns = {'pot' : 'potassium'}, inplace = True),\n",
    "df.rename(columns = {'hemo' : 'hemoglobin'}, inplace = True),\n",
    "df.rename(columns = {'pcv' : 'packed cell volume'}, inplace = True),\n",
    "df.rename(columns = {'wc' : 'white blood cell count'}, inplace = True),\n",
    "df.rename(columns = {'rc' : 'red blood cell count'}, inplace = True),\n",
    "df.rename(columns = {'htn' : 'hypertension'}, inplace = True),\n",
    "df.rename(columns = {'dm' : 'diabetes mellitus'}, inplace = True),\n",
    "df.rename(columns = {'cad' : 'coronary artery disease'}, inplace = True),\n",
    "df.rename(columns = {'appet' : 'appetite'}, inplace = True),\n",
    "df.rename(columns = {'pe' : 'pedal edema'}, inplace = True),\n",
    "df.rename(columns = {'ane' : 'anemia'}, inplace = True),\n",
    "df.rename(columns = {'classification' : 'class'}, inplace = True)\n",
    "\n",
    "df"
   ]
  },
  {
   "cell_type": "code",
   "execution_count": null,
   "id": "d9c62048",
   "metadata": {},
   "outputs": [],
   "source": [
    "# replace incorrect values\n",
    "#1. in feature diabetes_mellitus, replace \"\\tno\" to 'no' and \"\\tyes\" to 'yes'\n",
    "df['diabetes mellitus'] = df['diabetes mellitus'].replace({\"\\\\tno\": \"no\", \"\\\\tyes\": \"yes\"})\n",
    "\n",
    "#2 in feature coronary_artery_disease, replace \"\\tno\" to 'no'\n",
    "df['coronary artery disease'] = df['coronary artery disease'].replace({\"\\\\tno\": \"no\"})\n",
    "\n",
    "#3 in feature class, replace 'ckd\\t' to 'ckd', 'notckd' to 'not ckd'\n",
    "df['class'] = df['class'].replace({\"ckd\\\\t\": \"ckd\", \"notckd\": \"not ckd\"})\n",
    "\n",
    "#note that ckd means chronic kidney disease\n",
    "df"
   ]
  },
  {
   "cell_type": "code",
   "execution_count": null,
   "id": "750371d8",
   "metadata": {},
   "outputs": [],
   "source": [
    "# checking for null values in main data\n",
    "import numpy as np\n",
    "null_values = df.isnull()\n",
    "null_values\n",
    "\n",
    "#also sort values in ascending order\n",
    "df['null_count'] = null_values.sum(axis=1)\n",
    "df.sort_values(by='null_count', ascending=True, inplace=True)\n",
    "df"
   ]
  },
  {
   "cell_type": "code",
   "execution_count": null,
   "id": "61b02c24",
   "metadata": {},
   "outputs": [],
   "source": [
    "num_cols = df.select_dtypes(include=['number']).columns\n",
    "num_cols"
   ]
  },
  {
   "cell_type": "code",
   "execution_count": null,
   "id": "c82b5169",
   "metadata": {},
   "outputs": [],
   "source": [
    "cat_cols = df.select_dtypes(include=['object']).columns\n",
    "cat_cols"
   ]
  },
  {
   "cell_type": "code",
   "execution_count": null,
   "id": "7235ab34",
   "metadata": {},
   "outputs": [],
   "source": [
    "## checking for null values in numerical columns\n",
    "num_cols.isnull()"
   ]
  },
  {
   "cell_type": "code",
   "execution_count": null,
   "id": "000d157f",
   "metadata": {},
   "outputs": [],
   "source": [
    "## checking for null values in categorical columns\n",
    "cat_cols.isnull().sum()"
   ]
  },
  {
   "cell_type": "code",
   "execution_count": 31,
   "id": "60a279ff",
   "metadata": {
    "execution": {
     "iopub.execute_input": "2021-08-03T10:27:11.074541Z",
     "iopub.status.busy": "2021-08-03T10:27:11.073494Z",
     "iopub.status.idle": "2021-08-03T10:27:11.079799Z",
     "shell.execute_reply": "2021-08-03T10:27:11.080308Z",
     "shell.execute_reply.started": "2021-08-03T10:09:12.329206Z"
    },
    "id": "60a279ff",
    "papermill": {
     "duration": 0.121529,
     "end_time": "2021-08-03T10:27:11.080479",
     "exception": false,
     "start_time": "2021-08-03T10:27:10.958950",
     "status": "completed"
    },
    "tags": []
   },
   "outputs": [],
   "source": [
    "# fill null values in numerical columns : use mean of each feature if where value count is less than or equal to 40 and median if value count is greater than 40\n",
    "num_cols = df.select_dtypes(include=[np.number])\n",
    "null_counts = df[num_cols.columns].isnull().sum()\n",
    "                            \n",
    "for column in num_cols.columns:\n",
    "    count = null_counts[column]\n",
    "    if count <= 40:\n",
    "        df[column].fillna(df[column].mean(), inplace=True)\n",
    "    else:\n",
    "        df[column].fillna(df[column].median(), inplace=True)\n"
   ]
  },
  {
   "cell_type": "code",
   "execution_count": null,
   "id": "c1338ae4",
   "metadata": {},
   "outputs": [],
   "source": [
    "#check for null values in all numeric columns\n",
    "num_cols.isnull()"
   ]
  },
  {
   "cell_type": "code",
   "execution_count": 38,
   "id": "zz1F9vfb5OgM",
   "metadata": {
    "id": "zz1F9vfb5OgM"
   },
   "outputs": [],
   "source": [
    "#fill null values in categorical columns by using the mode of each column\n",
    "#do this using functions\n",
    "def fill_cat_nulls(df, cat_cols):\n",
    "    for column in cat_cols:\n",
    "        mode_value = df[column].mode().iloc[0]\n",
    "        df[column].fillna(mode_value, inplace=True)\n",
    "        \n",
    "    return df\n"
   ]
  },
  {
   "cell_type": "code",
   "execution_count": 41,
   "id": "74VZjnT-4IiY",
   "metadata": {
    "id": "74VZjnT-4IiY"
   },
   "outputs": [],
   "source": [
    "#convert all categorical values to numeric\n",
    "for col in cat_cols:\n",
    "    df[col] = pd.to_numeric(df[col], errors='coerce')"
   ]
  }
 ],
 "metadata": {
  "colab": {
   "provenance": []
  },
  "kernelspec": {
   "display_name": "Python 3 (ipykernel)",
   "language": "python",
   "name": "python3"
  },
  "language_info": {
   "codemirror_mode": {
    "name": "ipython",
    "version": 3
   },
   "file_extension": ".py",
   "mimetype": "text/x-python",
   "name": "python",
   "nbconvert_exporter": "python",
   "pygments_lexer": "ipython3",
   "version": "3.11.1"
  },
  "papermill": {
   "default_parameters": {},
   "duration": 63.932833,
   "end_time": "2021-08-03T10:27:41.688051",
   "environment_variables": {},
   "exception": null,
   "input_path": "__notebook__.ipynb",
   "output_path": "__notebook__.ipynb",
   "parameters": {},
   "start_time": "2021-08-03T10:26:37.755218",
   "version": "2.3.3"
  }
 },
 "nbformat": 4,
 "nbformat_minor": 5
}
